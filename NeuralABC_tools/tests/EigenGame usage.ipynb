{
 "cells": [
  {
   "cell_type": "code",
   "execution_count": 1,
   "metadata": {},
   "outputs": [
    {
     "name": "stderr",
     "output_type": "stream",
     "text": [
      "/home/remoteuser/neuralabc_volunteer/.local/lib/python3.8/site-packages/nilearn/input_data/__init__.py:27: FutureWarning: The import path 'nilearn.input_data' is deprecated in version 0.9. Importing from 'nilearn.input_data' will be possible at least until release 0.13.0. Please import from 'nilearn.maskers' instead.\n",
      "  warnings.warn(message, FutureWarning)\n"
     ]
    }
   ],
   "source": [
    "import numpy as np\n",
    "from sklearn.decomposition import PCA\n",
    "from nilearn import datasets, plotting, masking, image, input_data\n",
    "from sklearn.pipeline import Pipeline\n",
    "from sklearn.preprocessing import StandardScaler\n"
   ]
  },
  {
   "cell_type": "code",
   "execution_count": 2,
   "metadata": {},
   "outputs": [],
   "source": [
    "#Implement the EigenGame class\n",
    "\n",
    "import numpy as np\n",
    "\n",
    "def calc_penalties(data, vectors, index):\n",
    "    \"\"\"\n",
    "    calc_penalties is a helper function used by eigengame() and should never be called outside\n",
    "    of it. \n",
    "    \n",
    "    Parameters:\n",
    "    ----------------\n",
    "    :param data: (2D array), required: the data array for which we want to run PCA on.\n",
    "    :param vectors: (2D array), required: the collection of eigenvectors that are being calculated by eigengame()\n",
    "    :param index: (int), required: the index of the vector within vectors that we want to calculate the penalty for\n",
    "    \n",
    "    Returns:\n",
    "    ----------------\n",
    "    :returns penalties: The penalties array, which will be used by eigengame() to calculate the vector update\n",
    "    References:\n",
    "    ----------------\n",
    "    \"EigenGame: PCA as a Nash Equilibrium\"; Gemp et al., 2020 \n",
    "    \"\"\"\n",
    "    vec = vectors[:, index]\n",
    "    penalties = np.zeros_like(np.dot(data, vectors[:, 0]))\n",
    "    \n",
    "    for i in range(index):\n",
    "        result = np.dot(data, vectors[:, i])\n",
    "        penalties += (np.dot(np.dot(data, vec), result) /\n",
    "         np.dot(result, result)\n",
    "        ) * result\n",
    "\n",
    "    return penalties \n",
    "\n",
    "class EigenGame():\n",
    "    def __init__(self, n_components, epochs=100, learning_rate=0.1):\n",
    "        \n",
    "        \"\"\"\n",
    "        EigenGame implements the \"EigenGame\" algorithm, developed by\n",
    "        Gemp et al. in 2020\n",
    "        \n",
    "        Constructor parameters:\n",
    "        ----------------\n",
    "        :param data: (2D array), required: a Numpy array containing the data to run PCA on, in the form (features, samples) \n",
    "        :param n_components: (int), required: the number of principal components to extract\n",
    "        :param epochs: (int), optional: the number of iterations to calculate each eigenvector. Default = 100\n",
    "        :param learning_rate: (float), optional: Learning rate of the algorithm. Default = 0.1\n",
    "\n",
    "        Returns:\n",
    "        ----------------\n",
    "        None\n",
    "\n",
    "        References:\n",
    "        ----------------\n",
    "        \"EigenGame: PCA as a Nash Equilibrium\"; Gemp et al., 2020 \n",
    "        \"\"\"\n",
    "        \n",
    "        self.n_components = n_components\n",
    "        self.epochs = epochs\n",
    "        self.learning_rate = learning_rate\n",
    "    \n",
    "    def fit_transform(self, data):\n",
    "        \"\"\"\n",
    "        fit_transform() performs PCA on input data using the \"EigenGame\" algorithm, developed by\n",
    "        Gemp et al. in 2020\n",
    "\n",
    "        Parameters:\n",
    "        ----------------\n",
    "        None\n",
    "        \n",
    "        Returns:\n",
    "        ----------------\n",
    "        vectors\n",
    "        :returns vectors: the principal components, stacked horizontally\n",
    "\n",
    "        References:\n",
    "        ----------------\n",
    "        \"EigenGame: PCA as a Nash Equilibrium\"; Gemp et al., 2020 \n",
    "        \"\"\"\n",
    "        data = data.T\n",
    "        self.data = data\n",
    "\n",
    "        n_components = self.n_components\n",
    "        learning_rate = self.learning_rate\n",
    "        epochs = self.epochs\n",
    "        \n",
    "        dim = data.shape[1]\n",
    "        vectors = np.ones((dim, n_components))\n",
    "        for t in range(n_components):\n",
    "            for epoch in range(epochs):\n",
    "                rewards = np.dot(data, vectors[:, t])\n",
    "                penalties = calc_penalties(data, vectors, t)\n",
    "\n",
    "                delta_v = 2*np.dot(data.T, rewards - penalties)\n",
    "                vectors[:, t] = vectors[:, t] + learning_rate * delta_v\n",
    "                vectors[:, t] = vectors[:, t] / np.linalg.norm(vectors[:, t])\n",
    "\n",
    "        self.eigenvectors = vectors.T\n",
    "        self.components = data @ self.eigenvectors.T\n",
    "        return vectors\n",
    "    \n",
    "    def get_explained_variance_ratio(self):\n",
    "        explained_variance_ratios = []\n",
    "        \n",
    "        cov_matrix_firstrow = np.zeros((self.data.shape[1]))\n",
    "        for i in range(self.data.shape[1]):\n",
    "            cov_matrix_firstrow[i] = np.dot(self.data[:,0], self.data[:,i])\n",
    "        \n",
    "        \n",
    "        for v in self.eigenvectors:\n",
    "            explained_variance_ratios.append(np.dot(v, cov_matrix_firstrow) / v[0])\n",
    "        \n",
    "        covariance_matrix_trace = 0\n",
    "        for row in self.data:\n",
    "            covariance_matrix_trace += np.dot(row, row)\n",
    "        \n",
    "        return explained_variance_ratios / covariance_matrix_trace"
   ]
  },
  {
   "cell_type": "code",
   "execution_count": 3,
   "metadata": {},
   "outputs": [
    {
     "name": "stdout",
     "output_type": "stream",
     "text": [
      "(168, 24256)\n"
     ]
    }
   ],
   "source": [
    "#Grab one subject from the dataset\n",
    "data = datasets.fetch_development_fmri(n_subjects=1)\n",
    "\n",
    "#Calculate the mask\n",
    "avg_img = image.mean_img(data.func[0])\n",
    "mask = masking.compute_epi_mask(avg_img)\n",
    "our_masker = input_data.NiftiMasker(mask_img=mask)\n",
    "\n",
    "#Convert data to an array\n",
    "X = our_masker.fit_transform(data['func'][0])\n",
    "print(X.shape)"
   ]
  },
  {
   "cell_type": "code",
   "execution_count": 4,
   "metadata": {},
   "outputs": [],
   "source": [
    "#Instantiate a PCA object from SKLearn\n",
    "pca = PCA(n_components=1)\n",
    "\n",
    "#We shall scale the data before passing it to SKLearn's PCA\n",
    "scaler = StandardScaler()\n",
    "X_normed = scaler.fit_transform(X)\n",
    "\n",
    "sklearn_pca_results = pca.fit_transform(X_normed.T)"
   ]
  },
  {
   "cell_type": "code",
   "execution_count": 5,
   "metadata": {},
   "outputs": [
    {
     "name": "stdout",
     "output_type": "stream",
     "text": [
      "CPU times: user 16.5 s, sys: 707 ms, total: 17.2 s\n",
      "Wall time: 411 ms\n"
     ]
    }
   ],
   "source": [
    "%%time\n",
    "#Create an EigenGame object and pass our data to it\n",
    "\n",
    "eg = EigenGame(n_components=1)\n",
    "eigengame_pca_results = eg.fit_transform(X_normed.T.astype(np.float64))"
   ]
  },
  {
   "cell_type": "code",
   "execution_count": 6,
   "metadata": {},
   "outputs": [
    {
     "data": {
      "text/plain": [
       "array([[ 1.        , -0.97887198],\n",
       "       [-0.97887198,  1.        ]])"
      ]
     },
     "execution_count": 6,
     "metadata": {},
     "output_type": "execute_result"
    },
    {
     "data": {
      "image/png": "[encoded data removed]",
      "text/plain": [
       "<Figure size 432x288 with 1 Axes>"
      ]
     },
     "metadata": {
      "needs_background": "light"
     },
     "output_type": "display_data"
    }
   ],
   "source": [
    "import matplotlib.pyplot as plt\n",
    "\n",
    "plt.plot(sklearn_pca_results[:,0],eigengame_pca_results.reshape(-1,),'.')\n",
    "plt.title(\"Correlation between NumPy-calculated PC1 and EigenGame-calculated PC1\")\n",
    "np.corrcoef(sklearn_pca_results[:,0],eigengame_pca_results.reshape(-1,))"
   ]
  },
  {
   "cell_type": "code",
   "execution_count": 7,
   "metadata": {},
   "outputs": [
    {
     "data": {
      "text/plain": [
       "array([[ 1.        , -0.94687302],\n",
       "       [-0.94687302,  1.        ]])"
      ]
     },
     "execution_count": 7,
     "metadata": {},
     "output_type": "execute_result"
    },
    {
     "data": {
      "image/png": "[encoded data removed]",
      "text/plain": [
       "<Figure size 432x288 with 1 Axes>"
      ]
     },
     "metadata": {
      "needs_background": "light"
     },
     "output_type": "display_data"
    }
   ],
   "source": [
    "plt.plot(pca.components_,eg.components.T,'.')\n",
    "plt.title(\"Correlation between NumPy-calculated components and EigenGame-calculated components\")\n",
    "np.corrcoef(pca.components_,eg.components.T)"
   ]
  },
  {
   "cell_type": "code",
   "execution_count": 16,
   "metadata": {},
   "outputs": [
    {
     "name": "stdout",
     "output_type": "stream",
     "text": [
      " Explained variance ratio determined by EigenGame:  [0.10558267] \n",
      " Explained variance ratio determined by SKlearn's PCA:  [0.07373841]\n"
     ]
    }
   ],
   "source": [
    "print(\" Explained variance ratio determined by EigenGame: \", eg.get_explained_variance_ratio(), \"\\n\", \n",
    "     \"Explained variance ratio determined by SKlearn's PCA: \", pca.explained_variance_ratio_)"
   ]
  },
  {
   "cell_type": "code",
   "execution_count": null,
   "metadata": {},
   "outputs": [],
   "source": []
  },
  {
   "cell_type": "code",
   "execution_count": null,
   "metadata": {},
   "outputs": [],
   "source": []
  }
 ],
 "metadata": {
  "kernelspec": {
   "display_name": "Python 3",
   "language": "python",
   "name": "python3"
  },
  "language_info": {
   "codemirror_mode": {
    "name": "ipython",
    "version": 3
   },
   "file_extension": ".py",
   "mimetype": "text/x-python",
   "name": "python",
   "nbconvert_exporter": "python",
   "pygments_lexer": "ipython3",
   "version": "3.8.5"
  }
 },
 "nbformat": 4,
 "nbformat_minor": 4
}
